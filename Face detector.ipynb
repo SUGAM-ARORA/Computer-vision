{
 "cells": [
  {
   "cell_type": "code",
   "execution_count": null,
   "id": "574982e5",
   "metadata": {},
   "outputs": [],
   "source": [
    "from cvzone.FaceDetectionModule import FaceDetector\n",
    "import cv2\n",
    "\n",
    "cap = cv2.VideoCapture(0)\n",
    "detector = FaceDetector()\n",
    "\n",
    "while True:\n",
    "    success, img = cap.read()\n",
    "    img, bboxs = detector.findFaces(img)\n",
    "\n",
    "    if bboxs:\n",
    "        # bboxInfo - \"id\",\"bbox\",\"score\",\"center\"\n",
    "        center = bboxs[0][\"center\"]\n",
    "        cv2.circle(img, center, 5, (255, 0, 255), cv2.FILLED)\n",
    "\n",
    "    cv2.imshow(\"Image\", img)\n",
    "    if cv2.waitKey(1) & 0xFF == ord('q'):\n",
    "        break\n",
    "cap.release()\n",
    "cv2.destroyAllWindows()"
   ]
  },
  {
   "cell_type": "code",
   "execution_count": null,
   "id": "049ac7ce",
   "metadata": {},
   "outputs": [],
   "source": []
  },
  {
   "cell_type": "code",
   "execution_count": null,
   "id": "554ec841",
   "metadata": {},
   "outputs": [],
   "source": []
  },
  {
   "cell_type": "code",
   "execution_count": 4,
   "id": "63c765ea",
   "metadata": {},
   "outputs": [],
   "source": []
  },
  {
   "cell_type": "code",
   "execution_count": null,
   "id": "1c9ecb0b",
   "metadata": {},
   "outputs": [],
   "source": []
  }
 ],
 "metadata": {
  "kernelspec": {
   "display_name": "Python 3 (ipykernel)",
   "language": "python",
   "name": "python3"
  },
  "language_info": {
   "codemirror_mode": {
    "name": "ipython",
    "version": 3
   },
   "file_extension": ".py",
   "mimetype": "text/x-python",
   "name": "python",
   "nbconvert_exporter": "python",
   "pygments_lexer": "ipython3",
   "version": "3.9.12"
  }
 },
 "nbformat": 4,
 "nbformat_minor": 5
}
