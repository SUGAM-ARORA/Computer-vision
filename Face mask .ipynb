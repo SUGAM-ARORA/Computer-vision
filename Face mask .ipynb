{
 "cells": [
  {
   "cell_type": "code",
   "execution_count": null,
   "id": "e31c8663",
   "metadata": {},
   "outputs": [],
   "source": [
    "from cvzone.FaceMeshModule import FaceMeshDetector\n",
    "import cv2\n",
    "\n",
    "cap = cv2.VideoCapture(0)\n",
    "detector = FaceMeshDetector(maxFaces=2)\n",
    "while True:\n",
    "    success, img = cap.read()\n",
    "    img, faces = detector.findFaceMesh(img)\n",
    "    if faces:\n",
    "        print(faces[0])\n",
    "    cv2.imshow(\"Image\", img)\n",
    "    if cv2.waitKey(1) & 0xFF == ord('q'):\n",
    "        break\n",
    "cap.release()\n",
    "cv2.destroyAllWindows()"
   ]
  }
 ],
 "metadata": {
  "kernelspec": {
   "display_name": "Python 3 (ipykernel)",
   "language": "python",
   "name": "python3"
  },
  "language_info": {
   "codemirror_mode": {
    "name": "ipython",
    "version": 3
   },
   "file_extension": ".py",
   "mimetype": "text/x-python",
   "name": "python",
   "nbconvert_exporter": "python",
   "pygments_lexer": "ipython3",
   "version": "3.9.12"
  }
 },
 "nbformat": 4,
 "nbformat_minor": 5
}
